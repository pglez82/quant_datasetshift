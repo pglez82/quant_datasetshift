{
 "cells": [
  {
   "cell_type": "code",
   "execution_count": 2,
   "metadata": {},
   "outputs": [
    {
     "name": "stdout",
     "output_type": "stream",
     "text": [
      "Loading yeast (Yeast)\n",
      "#instances=1484, type=<class 'numpy.ndarray'>, #features=8, #classes=[0 1], prevs=[0.711, 0.289]\n",
      "Training classifier...\n",
      "[SMM] Mu_L_pos = 0.36, Mu_L_neg = 0.25\n",
      "[PACC [[0.75018483 0.64458933]\n",
      " [0.24981517 0.35541067]]\n",
      "       true-prev                                 estim-prev       mae\n",
      "0     [0.0, 1.0]                                 [0.0, 1.0]  0.000000\n",
      "1     [0.0, 1.0]                                 [0.0, 1.0]  0.000000\n",
      "2   [0.11, 0.89]                                 [0.0, 1.0]  0.110000\n",
      "3   [0.11, 0.89]                                 [0.0, 1.0]  0.110000\n",
      "4   [0.22, 0.78]                                 [0.0, 1.0]  0.220000\n",
      "5   [0.22, 0.78]                                 [0.0, 1.0]  0.220000\n",
      "6   [0.33, 0.67]                                 [0.0, 1.0]  0.330000\n",
      "7   [0.33, 0.67]                                 [0.0, 1.0]  0.330000\n",
      "8   [0.45, 0.55]  [0.10069662151634484, 0.8993033784836552]  0.349303\n",
      "9   [0.44, 0.56]   [0.3693723741346019, 0.6306276258653981]  0.070628\n",
      "10  [0.56, 0.44]  [0.13886136115212655, 0.8611386388478734]  0.421139\n",
      "11  [0.56, 0.44]   [0.4162112784743832, 0.5837887215256168]  0.143789\n",
      "12  [0.67, 0.33]   [0.2964947543376343, 0.7035052456623657]  0.373505\n",
      "13  [0.66, 0.34]  [0.31862626845788067, 0.6813737315421193]  0.341374\n",
      "14  [0.78, 0.22]   [0.6469897284533498, 0.3530102715466502]  0.133010\n",
      "15  [0.78, 0.22]  [0.7668739393449601, 0.23312606065503996]  0.013126\n",
      "16  [0.89, 0.11]   [0.6184708727055003, 0.3815291272944997]  0.271529\n",
      "17  [0.89, 0.11]  [0.9015708369052126, 0.09842916309478748]  0.011571\n",
      "18    [1.0, 0.0]                                 [1.0, 0.0]  0.000000\n",
      "19    [1.0, 0.0]                                 [1.0, 0.0]  0.000000\n",
      "       true-prev                                 estim-prev       mae\n",
      "0     [0.0, 1.0]                                 [0.0, 1.0]  0.000000\n",
      "1     [0.0, 1.0]                                 [0.0, 1.0]  0.000000\n",
      "2   [0.11, 0.89]                                 [0.0, 1.0]  0.110000\n",
      "3   [0.11, 0.89]                                 [0.0, 1.0]  0.110000\n",
      "4   [0.22, 0.78]                                 [0.0, 1.0]  0.220000\n",
      "5   [0.22, 0.78]                                 [0.0, 1.0]  0.220000\n",
      "6   [0.33, 0.67]                                 [0.0, 1.0]  0.330000\n",
      "7   [0.33, 0.67]                                 [0.0, 1.0]  0.330000\n",
      "8   [0.45, 0.55]  [0.10069662151634448, 0.8993033784836556]  0.349303\n",
      "9   [0.44, 0.56]   [0.3693723741346003, 0.6306276258653997]  0.070628\n",
      "10  [0.56, 0.44]   [0.13886136115212605, 0.861138638847874]  0.421139\n",
      "11  [0.56, 0.44]  [0.41621127847438105, 0.5837887215256189]  0.143789\n",
      "12  [0.67, 0.33]   [0.2964947543376344, 0.7035052456623655]  0.373505\n",
      "13  [0.66, 0.34]   [0.3186262684578793, 0.6813737315421207]  0.341374\n",
      "14  [0.78, 0.22]  [0.6469897284533483, 0.35301027154665177]  0.133010\n",
      "15  [0.78, 0.22]  [0.7668739393449601, 0.23312606065503988]  0.013126\n",
      "16  [0.89, 0.11]  [0.6184708727054998, 0.38152912729450017]  0.271529\n",
      "17  [0.89, 0.11]  [0.9015708369052109, 0.09842916309478919]  0.011571\n",
      "18    [1.0, 0.0]                                 [1.0, 0.0]  0.000000\n",
      "19    [1.0, 0.0]                                 [1.0, 0.0]  0.000000\n",
      "None\n"
     ]
    }
   ],
   "source": [
    "import quapy as qp\n",
    "from sklearn.linear_model import LogisticRegression\n",
    "from quapy.protocol import APP\n",
    "import pandas as pd\n",
    "\n",
    "qp.environ['N_JOBS'] = 2\n",
    "\n",
    "dataset = qp.datasets.fetch_UCIDataset('yeast', verbose=False)\n",
    "\n",
    "classifier = LogisticRegression(random_state=0,max_iter=10000)\n",
    "trainsplit, valsplit = dataset.training.split_stratified(train_prop=0.6, random_state=2032)\n",
    "print(\"Training classifier...\")\n",
    "classifier.fit(trainsplit.X,trainsplit.y)\n",
    "\n",
    "\n",
    "\n",
    "modelSMM = qp.method.aggregative.SMM(classifier,val_split=valsplit)\n",
    "modelPACC = qp.method.aggregative.PACC(classifier,val_split=valsplit)\n",
    "\n",
    "\n",
    "modelSMM = modelSMM.fit(data=trainsplit)\n",
    "modelPACC = modelPACC.fit(data=trainsplit)\n",
    "\n",
    "print(\"[SMM] Mu_L_pos = %.2f, Mu_L_neg = %.2f\" % (modelSMM.Pxy1_mean,modelSMM.Pxy0_mean))\n",
    "print(\"[PACC\",modelPACC.Pte_cond_estim_)\n",
    "\n",
    "resultssmm = qp.evaluation.evaluation_report(\n",
    "    modelSMM,\n",
    "    APP(dataset.test,100,10,2,random_state=2032)\n",
    ")\n",
    "print(resultssmm)\n",
    "\n",
    "resultspacc = qp.evaluation.evaluation_report(\n",
    "    modelPACC,\n",
    "    APP(dataset.test,100,10,2,random_state=2032)\n",
    ")\n",
    "print(resultspacc)\n",
    "\n",
    "print(pd.testing.assert_frame_equal(resultssmm,resultspacc))"
   ]
  }
 ],
 "metadata": {
  "kernelspec": {
   "display_name": "Python 3.8.10 ('venv33': venv)",
   "language": "python",
   "name": "python3"
  },
  "language_info": {
   "codemirror_mode": {
    "name": "ipython",
    "version": 3
   },
   "file_extension": ".py",
   "mimetype": "text/x-python",
   "name": "python",
   "nbconvert_exporter": "python",
   "pygments_lexer": "ipython3",
   "version": "3.8.10"
  },
  "orig_nbformat": 4,
  "vscode": {
   "interpreter": {
    "hash": "decae0160c8d3cde08be496d15a3cac098095f2ddec751438a22a3a69caccbf4"
   }
  }
 },
 "nbformat": 4,
 "nbformat_minor": 2
}
