{
 "cells": [
  {
   "cell_type": "code",
   "execution_count": 14,
   "metadata": {},
   "outputs": [
    {
     "name": "stdout",
     "output_type": "stream",
     "text": [
      "Loading yeast (Yeast)\n",
      "#instances=1484, type=<class 'numpy.ndarray'>, #features=8, #classes=[0 1], prevs=[0.711, 0.289]\n",
      "Training classifier...\n",
      "       true-prev                                 estim-prev       mae\n",
      "0     [0.0, 1.0]                                 [0.0, 1.0]       0.0\n",
      "1     [0.0, 1.0]                                 [0.0, 1.0]       0.0\n",
      "2   [0.11, 0.89]                                 [0.0, 1.0]      0.11\n",
      "3   [0.11, 0.89]                                 [0.0, 1.0]      0.11\n",
      "4   [0.22, 0.78]                                 [0.0, 1.0]      0.22\n",
      "5   [0.22, 0.78]                                 [0.0, 1.0]      0.22\n",
      "6   [0.33, 0.67]                                 [0.0, 1.0]      0.33\n",
      "7   [0.33, 0.67]                                 [0.0, 1.0]      0.33\n",
      "8   [0.45, 0.55]  [0.10069662151638747, 0.8993033784836125]  0.349303\n",
      "9   [0.44, 0.56]   [0.3693723741345867, 0.6306276258654133]  0.070628\n",
      "10  [0.56, 0.44]   [0.1388613611521149, 0.8611386388478851]  0.421139\n",
      "11  [0.56, 0.44]  [0.41621127847446193, 0.5837887215255381]  0.143789\n",
      "12  [0.67, 0.33]   [0.2964947543377161, 0.7035052456622839]  0.373505\n",
      "13  [0.66, 0.34]  [0.31862626845784414, 0.6813737315421559]  0.341374\n",
      "14  [0.78, 0.22]  [0.6469897284534029, 0.35301027154659714]   0.13301\n",
      "15  [0.78, 0.22]   [0.766873939345002, 0.23312606065499794]  0.013126\n",
      "16  [0.89, 0.11]   [0.6184708727055708, 0.3815291272944292]  0.271529\n",
      "17  [0.89, 0.11]  [0.9015708369052033, 0.09842916309479663]  0.011571\n",
      "18    [1.0, 0.0]                                 [1.0, 0.0]       0.0\n",
      "19    [1.0, 0.0]                                 [1.0, 0.0]       0.0\n",
      "       true-prev                                 estim-prev       mae\n",
      "0     [0.0, 1.0]                                 [0.0, 1.0]       0.0\n",
      "1     [0.0, 1.0]                                 [0.0, 1.0]       0.0\n",
      "2   [0.11, 0.89]                                 [0.0, 1.0]      0.11\n",
      "3   [0.11, 0.89]                                 [0.0, 1.0]      0.11\n",
      "4   [0.22, 0.78]                                 [0.0, 1.0]      0.22\n",
      "5   [0.22, 0.78]                                 [0.0, 1.0]      0.22\n",
      "6   [0.33, 0.67]                                 [0.0, 1.0]      0.33\n",
      "7   [0.33, 0.67]                                 [0.0, 1.0]      0.33\n",
      "8   [0.45, 0.55]  [0.10069662151638935, 0.8993033784836106]  0.349303\n",
      "9   [0.44, 0.56]   [0.3693723741345883, 0.6306276258654118]  0.070628\n",
      "10  [0.56, 0.44]  [0.13886136115211795, 0.8611386388478821]  0.421139\n",
      "11  [0.56, 0.44]  [0.41621127847446177, 0.5837887215255383]  0.143789\n",
      "12  [0.67, 0.33]   [0.2964947543377177, 0.7035052456622822]  0.373505\n",
      "13  [0.66, 0.34]    [0.3186262684578461, 0.681373731542154]  0.341374\n",
      "14  [0.78, 0.22]  [0.6469897284534039, 0.35301027154659625]   0.13301\n",
      "15  [0.78, 0.22]   [0.7668739393450021, 0.2331260606549978]  0.013126\n",
      "16  [0.89, 0.11]  [0.6184708727055701, 0.38152912729442995]  0.271529\n",
      "17  [0.89, 0.11]   [0.901570836905204, 0.09842916309479606]  0.011571\n",
      "18    [1.0, 0.0]                                 [1.0, 0.0]       0.0\n",
      "19    [1.0, 0.0]                                 [1.0, 0.0]       0.0\n",
      "None\n"
     ]
    }
   ],
   "source": [
    "import quapy as qp\n",
    "from sklearn.linear_model import LogisticRegression\n",
    "from quapy.protocol import APP\n",
    "import pandas as pd\n",
    "\n",
    "qp.environ['N_JOBS'] = 2\n",
    "\n",
    "dataset = qp.datasets.fetch_UCIDataset('yeast', verbose=False)\n",
    "\n",
    "classifier = LogisticRegression(random_state=0,max_iter=10000)\n",
    "trainsplit, valsplit = dataset.training.split_stratified(train_prop=0.6, random_state=2032)\n",
    "print(\"Training classifier...\")\n",
    "classifier.fit(trainsplit.X,trainsplit.y)\n",
    "\n",
    "\n",
    "\n",
    "modelSMM = qp.method.aggregative.SMM(classifier,val_split=valsplit)\n",
    "modelPACC = qp.method.aggregative.PACC(classifier,val_split=valsplit)\n",
    "\n",
    "\n",
    "modelSMM = modelSMM.fit(data=trainsplit)\n",
    "modelPACC = modelPACC.fit(data=trainsplit)\n",
    "\n",
    "resultssmm = qp.evaluation.evaluation_report(\n",
    "    modelSMM,\n",
    "    APP(dataset.test,100,10,2,random_state=2032)\n",
    ")\n",
    "print(resultssmm)\n",
    "\n",
    "resultspacc = qp.evaluation.evaluation_report(\n",
    "    modelPACC,\n",
    "    APP(dataset.test,100,10,2,random_state=2032)\n",
    ")\n",
    "print(resultspacc)\n",
    "\n",
    "print(pd.testing.assert_frame_equal(resultssmm,resultspacc))"
   ]
  }
 ],
 "metadata": {
  "kernelspec": {
   "display_name": "Python 3.8.9 ('venv')",
   "language": "python",
   "name": "python3"
  },
  "language_info": {
   "codemirror_mode": {
    "name": "ipython",
    "version": 3
   },
   "file_extension": ".py",
   "mimetype": "text/x-python",
   "name": "python",
   "nbconvert_exporter": "python",
   "pygments_lexer": "ipython3",
   "version": "3.8.9"
  },
  "orig_nbformat": 4,
  "vscode": {
   "interpreter": {
    "hash": "aebf59cd4c26cc229022e8f1603fcc12869c5f6ee7fb2cbcb8abbf56aa0602b4"
   }
  }
 },
 "nbformat": 4,
 "nbformat_minor": 2
}
