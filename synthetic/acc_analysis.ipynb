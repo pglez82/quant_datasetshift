{
 "cells": [
  {
   "cell_type": "code",
   "execution_count": 37,
   "metadata": {},
   "outputs": [
    {
     "name": "stdout",
     "output_type": "stream",
     "text": [
      "100\n",
      "74\n",
      "46\n"
     ]
    }
   ],
   "source": [
    "import pandas as pd\n",
    "\n",
    "test = pd.read_csv('results/prior/results_experimenttpr_2023_09_29_20_03_ACC.csv')\n",
    "test['tpr_fpr'] = test['tpr']-test['fpr']\n",
    "test['p_hat_no_clip'] = (test['prev_cc']-test['fpr'])/(test['tpr_fpr'])\n",
    "test=test.sort_values('error',ascending=False)\n",
    "test = test.iloc[0:100]\n",
    "print(sum(abs(test['p_test']-test['prev_cc'])<test['error']))\n",
    "print(sum(test['tpr_fpr']<=0.1))\n",
    "print(sum(test['tpr_fpr']<=0.05))\n",
    "\n",
    "test.iloc[0:100].to_csv('test.csv')\n"
   ]
  }
 ],
 "metadata": {
  "kernelspec": {
   "display_name": "venv",
   "language": "python",
   "name": "python3"
  },
  "language_info": {
   "codemirror_mode": {
    "name": "ipython",
    "version": 3
   },
   "file_extension": ".py",
   "mimetype": "text/x-python",
   "name": "python",
   "nbconvert_exporter": "python",
   "pygments_lexer": "ipython3",
   "version": "3.8.9"
  },
  "orig_nbformat": 4
 },
 "nbformat": 4,
 "nbformat_minor": 2
}
